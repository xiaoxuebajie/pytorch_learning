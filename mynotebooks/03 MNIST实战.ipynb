{
 "cells": [
  {
   "cell_type": "markdown",
   "metadata": {},
   "source": [
    "# MNIST实战"
   ]
  },
  {
   "cell_type": "markdown",
   "metadata": {},
   "source": [
    "## MNIST介绍\n",
    "<img src='./images/05.png' style='zoom:50%'>"
   ]
  },
  {
   "cell_type": "markdown",
   "metadata": {},
   "source": [
    "## 代码实战过程："
   ]
  },
  {
   "cell_type": "code",
   "execution_count": 1,
   "metadata": {},
   "outputs": [],
   "source": [
    "import torch\n",
    "from torch import nn\n",
    "from torch.nn import functional as F\n",
    "from torch import optim\n",
    "\n",
    "import torchvision\n",
    "from matplotlib import pyplot as plt\n",
    "\n",
    "from utils import plot_image, plot_curve, one_hot"
   ]
  },
  {
   "cell_type": "code",
   "execution_count": 2,
   "metadata": {},
   "outputs": [],
   "source": [
    "batch_size = 512"
   ]
  },
  {
   "cell_type": "markdown",
   "metadata": {},
   "source": [
    "#### <font color=green> 读入数据：</font>"
   ]
  },
  {
   "cell_type": "code",
   "execution_count": 3,
   "metadata": {},
   "outputs": [
    {
     "name": "stdout",
     "output_type": "stream",
     "text": [
      "torch.Size([512, 1, 28, 28]) torch.Size([512]) tensor(-0.4242) tensor(2.8215)\n"
     ]
    },
    {
     "data": {
      "image/png": "[encoded data removed]",
      "text/plain": [
       "<Figure size 432x288 with 6 Axes>"
      ]
     },
     "metadata": {},
     "output_type": "display_data"
    }
   ],
   "source": [
    "# step1. load dataset\n",
    "train_loader = torch.utils.data.DataLoader(\n",
    "    torchvision.datasets.MNIST('./data/mnist_data', train=True, download=True,\n",
    "                               transform=torchvision.transforms.Compose([\n",
    "                                   torchvision.transforms.ToTensor(),\n",
    "                                   torchvision.transforms.Normalize(\n",
    "                                       (0.1307,), (0.3081,))\n",
    "                               ])),\n",
    "    batch_size=batch_size, shuffle=True)\n",
    "\n",
    "test_loader = torch.utils.data.DataLoader(\n",
    "    torchvision.datasets.MNIST('./data/mnist_data/', train=False, download=True,\n",
    "                               transform=torchvision.transforms.Compose([\n",
    "                                   torchvision.transforms.ToTensor(),\n",
    "                                   torchvision.transforms.Normalize(\n",
    "                                       (0.1307,), (0.3081,))\n",
    "                               ])),\n",
    "    batch_size=batch_size, shuffle=False)\n",
    "\n",
    "x, y = next(iter(train_loader))\n",
    "print(x.shape, y.shape, x.min(), x.max())\n",
    "plot_image(x, y, 'image sample')"
   ]
  },
  {
   "cell_type": "markdown",
   "metadata": {},
   "source": [
    "#### <font color=green> 网络设计：</font>"
   ]
  },
  {
   "cell_type": "code",
   "execution_count": 4,
   "metadata": {},
   "outputs": [],
   "source": [
    "class Net(nn.Module):\n",
    "\n",
    "    def __init__(self):\n",
    "        super(Net, self).__init__()\n",
    "\n",
    "        # xw+b\n",
    "        self.fc1 = nn.Linear(28*28, 256)\n",
    "        self.fc2 = nn.Linear(256, 64)\n",
    "        self.fc3 = nn.Linear(64, 10)\n",
    "\n",
    "    def forward(self, x):\n",
    "        # x: [b, 1, 28, 28]\n",
    "        # h1 = relu(xw1+b1)\n",
    "        x = F.relu(self.fc1(x))\n",
    "        # h2 = relu(h1w2+b2)\n",
    "        x = F.relu(self.fc2(x))\n",
    "        # h3 = h2w3+b3\n",
    "        x = self.fc3(x)\n",
    "\n",
    "        return x"
   ]
  },
  {
   "cell_type": "code",
   "execution_count": 5,
   "metadata": {},
   "outputs": [],
   "source": [
    "net = Net()\n",
    "# [w1, b1, w2, b2, w3, b3]\n",
    "optimizer = optim.SGD(net.parameters(), lr=0.01, momentum=0.9)\n",
    "\n",
    "train_loss = []"
   ]
  },
  {
   "cell_type": "markdown",
   "metadata": {},
   "source": [
    "#### <font color=green> 训练：</font>"
   ]
  },
  {
   "cell_type": "code",
   "execution_count": 6,
   "metadata": {},
   "outputs": [
    {
     "name": "stdout",
     "output_type": "stream",
     "text": [
      "0 0 0.11041081696748734\n",
      "0 10 0.0932936742901802\n",
      "0 20 0.08265504240989685\n",
      "0 30 0.07555026561021805\n",
      "0 40 0.072274349629879\n",
      "0 50 0.06657125800848007\n",
      "0 60 0.06119895353913307\n",
      "0 70 0.05710800364613533\n",
      "0 80 0.05561643838882446\n",
      "0 90 0.052810363471508026\n",
      "0 100 0.05145512521266937\n",
      "0 110 0.04761335626244545\n",
      "1 0 0.04615924134850502\n",
      "1 10 0.047983910888433456\n",
      "1 20 0.045610424131155014\n",
      "1 30 0.04404035583138466\n",
      "1 40 0.04226018115878105\n",
      "1 50 0.04314471781253815\n",
      "1 60 0.040052324533462524\n",
      "1 70 0.04060174897313118\n",
      "1 80 0.04131445661187172\n",
      "1 90 0.04046715795993805\n",
      "1 100 0.03827390447258949\n",
      "1 110 0.036884207278490067\n",
      "2 0 0.03840433433651924\n",
      "2 10 0.03851672261953354\n",
      "2 20 0.033999305218458176\n",
      "2 30 0.03625723719596863\n",
      "2 40 0.03604350611567497\n",
      "2 50 0.03338417038321495\n",
      "2 60 0.03534705191850662\n",
      "2 70 0.03305565193295479\n",
      "2 80 0.03543749451637268\n",
      "2 90 0.0314202606678009\n",
      "2 100 0.03435288369655609\n",
      "2 110 0.03184641897678375\n"
     ]
    }
   ],
   "source": [
    "for epoch in range(3):\n",
    "\n",
    "    for batch_idx, (x, y) in enumerate(train_loader):\n",
    "\n",
    "        # x: [b, 1, 28, 28], y: [512]\n",
    "        # [b, 1, 28, 28] => [b, 784]\n",
    "        x = x.view(x.size(0), 28*28)\n",
    "        # => [b, 10]\n",
    "        out = net(x)\n",
    "        # [b, 10]\n",
    "        y_onehot = one_hot(y)\n",
    "        # loss = mse(out, y_onehot)\n",
    "        loss = F.mse_loss(out, y_onehot)\n",
    "\n",
    "        optimizer.zero_grad()\n",
    "        loss.backward()\n",
    "        # w' = w - lr*grad\n",
    "        optimizer.step()\n",
    "        \n",
    "\n",
    "        train_loss.append(loss.item())     # loss tensor加上 item()之后可以变成 np 数据类型进行保存。\n",
    "        if batch_idx % 10==0:\n",
    "            print(epoch, batch_idx, loss.item())\n"
   ]
  },
  {
   "cell_type": "code",
   "execution_count": 7,
   "metadata": {},
   "outputs": [
    {
     "data": {
      "image/png": "[encoded data removed]",
      "text/plain": [
       "<Figure size 432x288 with 1 Axes>"
      ]
     },
     "metadata": {
      "needs_background": "light"
     },
     "output_type": "display_data"
    }
   ],
   "source": [
    "plot_curve(train_loss)\n",
    "# we get optimal [w1, b1, w2, b2, w3, b3]"
   ]
  },
  {
   "cell_type": "markdown",
   "metadata": {},
   "source": [
    "#### <font color=green> 验证准确度：</font>"
   ]
  },
  {
   "cell_type": "code",
   "execution_count": 8,
   "metadata": {},
   "outputs": [
    {
     "name": "stdout",
     "output_type": "stream",
     "text": [
      "test acc: 0.8921\n"
     ]
    }
   ],
   "source": [
    "total_correct = 0\n",
    "for x,y in test_loader:\n",
    "    x  = x.view(x.size(0), 28*28)\n",
    "    out = net(x)\n",
    "    # out: [b, 10] => pred: [b]\n",
    "    pred = out.argmax(dim=1)\n",
    "    correct = pred.eq(y).sum().float().item()\n",
    "    total_correct += correct\n",
    "\n",
    "total_num = len(test_loader.dataset)\n",
    "acc = total_correct / total_num\n",
    "print('test acc:', acc)"
   ]
  },
  {
   "cell_type": "code",
   "execution_count": 9,
   "metadata": {},
   "outputs": [
    {
     "data": {
      "image/png": "[encoded data removed]",
      "text/plain": [
       "<Figure size 432x288 with 6 Axes>"
      ]
     },
     "metadata": {},
     "output_type": "display_data"
    }
   ],
   "source": [
    "x, y = next(iter(test_loader))\n",
    "out = net(x.view(x.size(0), 28*28))\n",
    "pred = out.argmax(dim=1)\n",
    "plot_image(x, pred, 'test')"
   ]
  }
 ],
 "metadata": {
  "kernelspec": {
   "display_name": "Python 3",
   "language": "python",
   "name": "python3"
  },
  "language_info": {
   "codemirror_mode": {
    "name": "ipython",
    "version": 3
   },
   "file_extension": ".py",
   "mimetype": "text/x-python",
   "name": "python",
   "nbconvert_exporter": "python",
   "pygments_lexer": "ipython3",
   "version": "3.6.7"
  }
 },
 "nbformat": 4,
 "nbformat_minor": 2
}
