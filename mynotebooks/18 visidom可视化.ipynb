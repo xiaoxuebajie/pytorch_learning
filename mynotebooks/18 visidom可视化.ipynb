{
 "cells": [
  {
   "cell_type": "markdown",
   "metadata": {},
   "source": [
    "# 18 visidom可视化"
   ]
  },
  {
   "cell_type": "markdown",
   "metadata": {},
   "source": [
    "### tensorboard 工具"
   ]
  },
  {
   "cell_type": "markdown",
   "metadata": {},
   "source": [
    "### tensorboardX-Pytorch"
   ]
  },
  {
   "cell_type": "code",
   "execution_count": 1,
   "metadata": {},
   "outputs": [],
   "source": [
    "import  torch\n",
    "import  torch.nn as nn\n",
    "import  torch.nn.functional as F\n",
    "import  torch.optim as optim\n",
    "from    torchvision import datasets, transforms"
   ]
  },
  {
   "cell_type": "code",
   "execution_count": 2,
   "metadata": {},
   "outputs": [],
   "source": [
    "from visdom import Visdom"
   ]
  },
  {
   "cell_type": "code",
   "execution_count": 3,
   "metadata": {},
   "outputs": [],
   "source": [
    "batch_size=200\n",
    "learning_rate=0.01\n",
    "epochs=10"
   ]
  },
  {
   "cell_type": "code",
   "execution_count": 4,
   "metadata": {},
   "outputs": [],
   "source": [
    "train_loader = torch.utils.data.DataLoader(\n",
    "    datasets.MNIST('./data', train=True, download=True,\n",
    "                   transform=transforms.Compose([\n",
    "                       transforms.ToTensor(),\n",
    "                       # transforms.Normalize((0.1307,), (0.3081,))\n",
    "                   ])),\n",
    "    batch_size=batch_size, shuffle=True)\n",
    "test_loader = torch.utils.data.DataLoader(\n",
    "    datasets.MNIST('./data', train=False, transform=transforms.Compose([\n",
    "        transforms.ToTensor(),\n",
    "        # transforms.Normalize((0.1307,), (0.3081,))\n",
    "    ])),\n",
    "    batch_size=batch_size, shuffle=True)"
   ]
  },
  {
   "cell_type": "code",
   "execution_count": 5,
   "metadata": {},
   "outputs": [],
   "source": [
    "class MLP(nn.Module):\n",
    "\n",
    "    def __init__(self):\n",
    "        super(MLP, self).__init__()\n",
    "\n",
    "        self.model = nn.Sequential(\n",
    "            nn.Linear(784, 200),\n",
    "            nn.LeakyReLU(inplace=True),\n",
    "            nn.Linear(200, 200),\n",
    "            nn.LeakyReLU(inplace=True),\n",
    "            nn.Linear(200, 10),\n",
    "            nn.LeakyReLU(inplace=True),\n",
    "        )\n",
    "\n",
    "    def forward(self, x):\n",
    "        x = self.model(x)\n",
    "\n",
    "        return x"
   ]
  },
  {
   "cell_type": "code",
   "execution_count": 6,
   "metadata": {},
   "outputs": [],
   "source": [
    "device = torch.device('cuda:0')\n",
    "net = MLP().to(device)\n",
    "optimizer = optim.SGD(net.parameters(), lr=learning_rate)\n",
    "criteon = nn.CrossEntropyLoss().to(device)"
   ]
  },
  {
   "cell_type": "markdown",
   "metadata": {},
   "source": [
    "## 加入visdom对训练数据进行监视"
   ]
  },
  {
   "cell_type": "code",
   "execution_count": 7,
   "metadata": {},
   "outputs": [
    {
     "name": "stderr",
     "output_type": "stream",
     "text": [
      "WARNING:root:Setting up a new session...\n"
     ]
    }
   ],
   "source": [
    "viz = Visdom()\n",
    "\n",
    "viz.line([0.], [0.], win='train_loss', opts=dict(title='train loss'))\n",
    "viz.line([[0.0, 0.0]], [0.], win='test', opts=dict(title='test loss&acc.',\n",
    "                                                   legend=['loss', 'acc.']))\n",
    "global_step = 0"
   ]
  },
  {
   "cell_type": "code",
   "execution_count": 8,
   "metadata": {},
   "outputs": [
    {
     "name": "stdout",
     "output_type": "stream",
     "text": [
      "Train Epoch: 0 [0/60000 (0%)]\tLoss: 2.303169\n",
      "Train Epoch: 0 [20000/60000 (33%)]\tLoss: 2.280193\n",
      "Train Epoch: 0 [40000/60000 (67%)]\tLoss: 2.263378\n",
      "\n",
      "Test set: Average loss: 0.0111, Accuracy: 4115.0/10000 (41%)\n",
      "\n",
      "Train Epoch: 1 [0/60000 (0%)]\tLoss: 2.214029\n",
      "Train Epoch: 1 [20000/60000 (33%)]\tLoss: 2.144128\n",
      "Train Epoch: 1 [40000/60000 (67%)]\tLoss: 1.965252\n",
      "\n",
      "Test set: Average loss: 0.0092, Accuracy: 5044.0/10000 (50%)\n",
      "\n",
      "Train Epoch: 2 [0/60000 (0%)]\tLoss: 1.826575\n",
      "Train Epoch: 2 [20000/60000 (33%)]\tLoss: 1.712982\n",
      "Train Epoch: 2 [40000/60000 (67%)]\tLoss: 1.481638\n",
      "\n",
      "Test set: Average loss: 0.0067, Accuracy: 6377.0/10000 (64%)\n",
      "\n",
      "Train Epoch: 3 [0/60000 (0%)]\tLoss: 1.223653\n",
      "Train Epoch: 3 [20000/60000 (33%)]\tLoss: 1.135105\n",
      "Train Epoch: 3 [40000/60000 (67%)]\tLoss: 1.120881\n",
      "\n",
      "Test set: Average loss: 0.0055, Accuracy: 6692.0/10000 (67%)\n",
      "\n",
      "Train Epoch: 4 [0/60000 (0%)]\tLoss: 1.112903\n",
      "Train Epoch: 4 [20000/60000 (33%)]\tLoss: 0.946192\n",
      "Train Epoch: 4 [40000/60000 (67%)]\tLoss: 1.118770\n",
      "\n",
      "Test set: Average loss: 0.0045, Accuracy: 7935.0/10000 (79%)\n",
      "\n",
      "Train Epoch: 5 [0/60000 (0%)]\tLoss: 0.957148\n",
      "Train Epoch: 5 [20000/60000 (33%)]\tLoss: 0.812126\n",
      "Train Epoch: 5 [40000/60000 (67%)]\tLoss: 0.666227\n",
      "\n",
      "Test set: Average loss: 0.0027, Accuracy: 8714.0/10000 (87%)\n",
      "\n",
      "Train Epoch: 6 [0/60000 (0%)]\tLoss: 0.479198\n",
      "Train Epoch: 6 [20000/60000 (33%)]\tLoss: 0.611375\n",
      "Train Epoch: 6 [40000/60000 (67%)]\tLoss: 0.448457\n",
      "\n",
      "Test set: Average loss: 0.0022, Accuracy: 8850.0/10000 (88%)\n",
      "\n",
      "Train Epoch: 7 [0/60000 (0%)]\tLoss: 0.368406\n",
      "Train Epoch: 7 [20000/60000 (33%)]\tLoss: 0.418081\n",
      "Train Epoch: 7 [40000/60000 (67%)]\tLoss: 0.421706\n",
      "\n",
      "Test set: Average loss: 0.0020, Accuracy: 8927.0/10000 (89%)\n",
      "\n",
      "Train Epoch: 8 [0/60000 (0%)]\tLoss: 0.368504\n",
      "Train Epoch: 8 [20000/60000 (33%)]\tLoss: 0.375646\n",
      "Train Epoch: 8 [40000/60000 (67%)]\tLoss: 0.333606\n",
      "\n",
      "Test set: Average loss: 0.0019, Accuracy: 8979.0/10000 (90%)\n",
      "\n",
      "Train Epoch: 9 [0/60000 (0%)]\tLoss: 0.403884\n",
      "Train Epoch: 9 [20000/60000 (33%)]\tLoss: 0.391178\n",
      "Train Epoch: 9 [40000/60000 (67%)]\tLoss: 0.288277\n",
      "\n",
      "Test set: Average loss: 0.0018, Accuracy: 9026.0/10000 (90%)\n",
      "\n"
     ]
    }
   ],
   "source": [
    "for epoch in range(epochs):\n",
    "\n",
    "    for batch_idx, (data, target) in enumerate(train_loader):\n",
    "        data = data.view(-1, 28*28)\n",
    "        data, target = data.to(device), target.cuda()\n",
    "\n",
    "        logits = net(data)\n",
    "        loss = criteon(logits, target)\n",
    "\n",
    "        optimizer.zero_grad()\n",
    "        loss.backward()\n",
    "        # print(w1.grad.norm(), w2.grad.norm())\n",
    "        optimizer.step()\n",
    "\n",
    "        global_step += 1\n",
    "        viz.line([loss.item()], [global_step], win='train_loss', update='append')  # 直线数据还是得numpy .item(),image 可以直接tensor。\n",
    "\n",
    "        if batch_idx % 100 == 0:\n",
    "            print('Train Epoch: {} [{}/{} ({:.0f}%)]\\tLoss: {:.6f}'.format(\n",
    "                epoch, batch_idx * len(data), len(train_loader.dataset),\n",
    "                       100. * batch_idx / len(train_loader), loss.item()))\n",
    "\n",
    "\n",
    "    test_loss = 0\n",
    "    correct = 0\n",
    "    for data, target in test_loader:\n",
    "        data = data.view(-1, 28 * 28)\n",
    "        data, target = data.to(device), target.cuda()\n",
    "        logits = net(data)\n",
    "        test_loss += criteon(logits, target).item()\n",
    "\n",
    "        pred = logits.argmax(dim=1)\n",
    "        correct += pred.eq(target).float().sum().item()\n",
    "\n",
    "    viz.line([[test_loss, correct / len(test_loader.dataset)]],\n",
    "             [global_step], win='test', update='append')\n",
    "    viz.images(data.view(-1, 1, 28, 28), win='x')\n",
    "    viz.text(str(pred.detach().cpu().numpy()), win='pred',   # .detach() 返回相同数据的 tensor\n",
    "             opts=dict(title='pred'))\n",
    "\n",
    "    test_loss /= len(test_loader.dataset)\n",
    "    print('\\nTest set: Average loss: {:.4f}, Accuracy: {}/{} ({:.0f}%)\\n'.format(\n",
    "        test_loss, correct, len(test_loader.dataset),\n",
    "        100. * correct / len(test_loader.dataset)))\n"
   ]
  },
  {
   "cell_type": "markdown",
   "metadata": {},
   "source": [
    "可视化结果：\n",
    "<img src='./images/23.png' style=\"zoom:50%\">"
   ]
  }
 ],
 "metadata": {
  "kernelspec": {
   "display_name": "Python 3",
   "language": "python",
   "name": "python3"
  },
  "language_info": {
   "codemirror_mode": {
    "name": "ipython",
    "version": 3
   },
   "file_extension": ".py",
   "mimetype": "text/x-python",
   "name": "python",
   "nbconvert_exporter": "python",
   "pygments_lexer": "ipython3",
   "version": "3.6.7"
  }
 },
 "nbformat": 4,
 "nbformat_minor": 2
}
