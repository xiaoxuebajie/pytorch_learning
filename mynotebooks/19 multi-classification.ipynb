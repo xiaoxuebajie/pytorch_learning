{
 "cells": [
  {
   "cell_type": "markdown",
   "metadata": {},
   "source": [
    "# 19 multi-classification"
   ]
  },
  {
   "cell_type": "code",
   "execution_count": 1,
   "metadata": {},
   "outputs": [],
   "source": [
    "import torch\n",
    "import torch.nn as nn\n",
    "import torch.nn.functional as F\n",
    "import torch.optim as optim\n",
    "from torchvision import datasets, transforms"
   ]
  },
  {
   "cell_type": "code",
   "execution_count": 2,
   "metadata": {},
   "outputs": [],
   "source": [
    "batch_size=200\n",
    "learning_rate=0.01\n",
    "epochs=10"
   ]
  },
  {
   "cell_type": "markdown",
   "metadata": {},
   "source": [
    "###### 数据加载"
   ]
  },
  {
   "cell_type": "code",
   "execution_count": 3,
   "metadata": {},
   "outputs": [],
   "source": [
    "train_loader = torch.utils.data.DataLoader(\n",
    "    datasets.MNIST('./data', train=True, download=True,\n",
    "                   transform=transforms.Compose([\n",
    "                       transforms.ToTensor(),\n",
    "                       transforms.Normalize((0.1307,), (0.3081,))\n",
    "                   ])),\n",
    "    batch_size=batch_size, shuffle=True)\n",
    "test_loader = torch.utils.data.DataLoader(\n",
    "    datasets.MNIST('./data', train=False, transform=transforms.Compose([\n",
    "        transforms.ToTensor(),\n",
    "        transforms.Normalize((0.1307,), (0.3081,))\n",
    "    ])),\n",
    "    batch_size=batch_size, shuffle=True)"
   ]
  },
  {
   "cell_type": "markdown",
   "metadata": {},
   "source": [
    "###### 网络参数设置"
   ]
  },
  {
   "cell_type": "code",
   "execution_count": 4,
   "metadata": {},
   "outputs": [],
   "source": [
    "w1, b1 = torch.randn(200, 784, requires_grad=True),\\\n",
    "         torch.zeros(200, requires_grad=True)\n",
    "w2, b2 = torch.randn(200, 200, requires_grad=True),\\\n",
    "         torch.zeros(200, requires_grad=True)\n",
    "w3, b3 = torch.randn(10, 200, requires_grad=True),\\\n",
    "         torch.zeros(10, requires_grad=True)"
   ]
  },
  {
   "cell_type": "markdown",
   "metadata": {},
   "source": [
    "###### 何凯明初始化"
   ]
  },
  {
   "cell_type": "markdown",
   "metadata": {},
   "source": [
    "影响train的因素：1.learning rate过大 2.gradient vanished 3.初始化"
   ]
  },
  {
   "cell_type": "code",
   "execution_count": 5,
   "metadata": {},
   "outputs": [
    {
     "data": {
      "text/plain": [
       "tensor([[-0.0650,  0.2281, -0.0373,  ..., -0.1118, -0.0446, -0.0709],\n",
       "        [-0.0175,  0.0197,  0.0429,  ..., -0.0959, -0.2082, -0.1430],\n",
       "        [ 0.0222,  0.1012,  0.0431,  ...,  0.0101, -0.0253, -0.1775],\n",
       "        ...,\n",
       "        [ 0.1100,  0.0344,  0.2061,  ...,  0.1183,  0.0868, -0.0626],\n",
       "        [ 0.0494,  0.0367, -0.0309,  ..., -0.0782,  0.0014,  0.0220],\n",
       "        [-0.0151,  0.1183,  0.0261,  ..., -0.0092,  0.0322, -0.0596]],\n",
       "       requires_grad=True)"
      ]
     },
     "execution_count": 5,
     "metadata": {},
     "output_type": "execute_result"
    }
   ],
   "source": [
    "torch.nn.init.kaiming_normal_(w1)      #不使用的话可能导致loss不更新。\n",
    "torch.nn.init.kaiming_normal_(w2)\n",
    "torch.nn.init.kaiming_normal_(w3)"
   ]
  },
  {
   "cell_type": "markdown",
   "metadata": {},
   "source": [
    "###### 前向传播"
   ]
  },
  {
   "cell_type": "code",
   "execution_count": 6,
   "metadata": {},
   "outputs": [],
   "source": [
    "def forward(x):\n",
    "    x = x@w1.t() + b1\n",
    "    x = F.relu(x)\n",
    "    x = x@w2.t() + b2\n",
    "    x = F.relu(x)\n",
    "    x = x@w3.t() + b3\n",
    "    x = F.relu(x)\n",
    "    return x"
   ]
  },
  {
   "cell_type": "code",
   "execution_count": 7,
   "metadata": {},
   "outputs": [],
   "source": [
    "optimizer = optim.SGD([w1, b1, w2, b2, w3, b3], lr=learning_rate)\n",
    "criteon = nn.CrossEntropyLoss()"
   ]
  },
  {
   "cell_type": "code",
   "execution_count": 8,
   "metadata": {},
   "outputs": [
    {
     "name": "stdout",
     "output_type": "stream",
     "text": [
      "Train Epoch: 0 [0/60000 (0%)]\tLoss: 2.670898\n",
      "Train Epoch: 0 [20000/60000 (33%)]\tLoss: 0.565107\n",
      "Train Epoch: 0 [40000/60000 (67%)]\tLoss: 0.430992\n",
      "\n",
      "Test set: Average loss: 0.0018, Accuracy: 8965/10000 (89%)\n",
      "\n",
      "Train Epoch: 1 [0/60000 (0%)]\tLoss: 0.484619\n",
      "Train Epoch: 1 [20000/60000 (33%)]\tLoss: 0.289623\n",
      "Train Epoch: 1 [40000/60000 (67%)]\tLoss: 0.351167\n",
      "\n",
      "Test set: Average loss: 0.0014, Accuracy: 9184/10000 (91%)\n",
      "\n",
      "Train Epoch: 2 [0/60000 (0%)]\tLoss: 0.316420\n",
      "Train Epoch: 2 [20000/60000 (33%)]\tLoss: 0.200180\n",
      "Train Epoch: 2 [40000/60000 (67%)]\tLoss: 0.209215\n",
      "\n",
      "Test set: Average loss: 0.0012, Accuracy: 9280/10000 (92%)\n",
      "\n",
      "Train Epoch: 3 [0/60000 (0%)]\tLoss: 0.176648\n",
      "Train Epoch: 3 [20000/60000 (33%)]\tLoss: 0.247008\n",
      "Train Epoch: 3 [40000/60000 (67%)]\tLoss: 0.212357\n",
      "\n",
      "Test set: Average loss: 0.0011, Accuracy: 9344/10000 (93%)\n",
      "\n",
      "Train Epoch: 4 [0/60000 (0%)]\tLoss: 0.208531\n",
      "Train Epoch: 4 [20000/60000 (33%)]\tLoss: 0.254752\n",
      "Train Epoch: 4 [40000/60000 (67%)]\tLoss: 0.233033\n",
      "\n",
      "Test set: Average loss: 0.0010, Accuracy: 9388/10000 (93%)\n",
      "\n",
      "Train Epoch: 5 [0/60000 (0%)]\tLoss: 0.260664\n",
      "Train Epoch: 5 [20000/60000 (33%)]\tLoss: 0.214195\n",
      "Train Epoch: 5 [40000/60000 (67%)]\tLoss: 0.156196\n",
      "\n",
      "Test set: Average loss: 0.0010, Accuracy: 9439/10000 (94%)\n",
      "\n",
      "Train Epoch: 6 [0/60000 (0%)]\tLoss: 0.204726\n",
      "Train Epoch: 6 [20000/60000 (33%)]\tLoss: 0.279136\n",
      "Train Epoch: 6 [40000/60000 (67%)]\tLoss: 0.125649\n",
      "\n",
      "Test set: Average loss: 0.0009, Accuracy: 9453/10000 (94%)\n",
      "\n",
      "Train Epoch: 7 [0/60000 (0%)]\tLoss: 0.124255\n",
      "Train Epoch: 7 [20000/60000 (33%)]\tLoss: 0.197554\n",
      "Train Epoch: 7 [40000/60000 (67%)]\tLoss: 0.175842\n",
      "\n",
      "Test set: Average loss: 0.0008, Accuracy: 9498/10000 (94%)\n",
      "\n",
      "Train Epoch: 8 [0/60000 (0%)]\tLoss: 0.141913\n",
      "Train Epoch: 8 [20000/60000 (33%)]\tLoss: 0.115103\n",
      "Train Epoch: 8 [40000/60000 (67%)]\tLoss: 0.213395\n",
      "\n",
      "Test set: Average loss: 0.0008, Accuracy: 9523/10000 (95%)\n",
      "\n",
      "Train Epoch: 9 [0/60000 (0%)]\tLoss: 0.117989\n",
      "Train Epoch: 9 [20000/60000 (33%)]\tLoss: 0.143579\n",
      "Train Epoch: 9 [40000/60000 (67%)]\tLoss: 0.125231\n",
      "\n",
      "Test set: Average loss: 0.0008, Accuracy: 9538/10000 (95%)\n",
      "\n"
     ]
    }
   ],
   "source": [
    "for epoch in range(epochs):\n",
    "\n",
    "    for batch_idx, (data, target) in enumerate(train_loader):\n",
    "        data = data.view(-1, 28*28)\n",
    "\n",
    "        logits = forward(data)\n",
    "        loss = criteon(logits, target)\n",
    "\n",
    "        optimizer.zero_grad()\n",
    "        loss.backward()\n",
    "        # print(w1.grad.norm(), w2.grad.norm())\n",
    "        optimizer.step()\n",
    "\n",
    "        if batch_idx % 100 == 0:\n",
    "            print('Train Epoch: {} [{}/{} ({:.0f}%)]\\tLoss: {:.6f}'.format(\n",
    "                epoch, batch_idx * len(data), len(train_loader.dataset),\n",
    "                       100. * batch_idx / len(train_loader), loss.item()))\n",
    "\n",
    "\n",
    "    test_loss = 0\n",
    "    correct = 0\n",
    "    for data, target in test_loader:\n",
    "        data = data.view(-1, 28 * 28)\n",
    "        logits = forward(data)\n",
    "        test_loss += criteon(logits, target).item()\n",
    "\n",
    "        pred = logits.data.max(1)[1]\n",
    "        correct += pred.eq(target.data).sum()\n",
    "\n",
    "    test_loss /= len(test_loader.dataset)\n",
    "    print('\\nTest set: Average loss: {:.4f}, Accuracy: {}/{} ({:.0f}%)\\n'.format(\n",
    "        test_loss, correct, len(test_loader.dataset),\n",
    "        100. * correct / len(test_loader.dataset)))"
   ]
  }
 ],
 "metadata": {
  "kernelspec": {
   "display_name": "Python 3",
   "language": "python",
   "name": "python3"
  },
  "language_info": {
   "codemirror_mode": {
    "name": "ipython",
    "version": 3
   },
   "file_extension": ".py",
   "mimetype": "text/x-python",
   "name": "python",
   "nbconvert_exporter": "python",
   "pygments_lexer": "ipython3",
   "version": "3.6.7"
  }
 },
 "nbformat": 4,
 "nbformat_minor": 2
}
