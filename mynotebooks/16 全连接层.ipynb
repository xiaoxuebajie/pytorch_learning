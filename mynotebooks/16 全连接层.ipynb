{
 "cells": [
  {
   "cell_type": "markdown",
   "metadata": {},
   "source": [
    "# 16 全连接层"
   ]
  },
  {
   "cell_type": "code",
   "execution_count": 1,
   "metadata": {},
   "outputs": [],
   "source": [
    "import torch\n",
    "import torch.nn as nn\n",
    "import torch.nn.functional as F\n",
    "import torch.optim as optim\n",
    "from torchvision import datasets, transforms"
   ]
  },
  {
   "cell_type": "code",
   "execution_count": 2,
   "metadata": {},
   "outputs": [],
   "source": [
    "batch_size=200\n",
    "learning_rate=0.01\n",
    "epochs=10"
   ]
  },
  {
   "cell_type": "code",
   "execution_count": 3,
   "metadata": {},
   "outputs": [],
   "source": [
    "train_loader = torch.utils.data.DataLoader(\n",
    "    datasets.MNIST('./data', train=True, download=True,\n",
    "                   transform=transforms.Compose([\n",
    "                       transforms.ToTensor(),\n",
    "                       transforms.Normalize((0.1307,), (0.3081,))\n",
    "                   ])),\n",
    "    batch_size=batch_size, shuffle=True)\n",
    "test_loader = torch.utils.data.DataLoader(\n",
    "    datasets.MNIST('./data', train=False, transform=transforms.Compose([\n",
    "        transforms.ToTensor(),\n",
    "        transforms.Normalize((0.1307,), (0.3081,))\n",
    "    ])),\n",
    "    batch_size=batch_size, shuffle=True)"
   ]
  },
  {
   "cell_type": "markdown",
   "metadata": {},
   "source": [
    "### 创建自己的网络层"
   ]
  },
  {
   "cell_type": "markdown",
   "metadata": {},
   "source": [
    "###### 以后基本都是采用这种方式"
   ]
  },
  {
   "cell_type": "code",
   "execution_count": 4,
   "metadata": {},
   "outputs": [],
   "source": [
    "class MLP(nn.Module):\n",
    "\n",
    "    def __init__(self):\n",
    "        super(MLP, self).__init__()\n",
    "\n",
    "        self.model = nn.Sequential(\n",
    "            nn.Linear(784, 200),\n",
    "            nn.ReLU(inplace=True),\n",
    "            nn.Linear(200, 200),\n",
    "            nn.ReLU(inplace=True),\n",
    "            nn.Linear(200, 10),\n",
    "            nn.ReLU(inplace=True),\n",
    "        )\n",
    "\n",
    "    def forward(self, x):\n",
    "        x = self.model(x)\n",
    "\n",
    "        return x"
   ]
  },
  {
   "cell_type": "code",
   "execution_count": 5,
   "metadata": {},
   "outputs": [],
   "source": [
    "net = MLP()\n",
    "optimizer = optim.SGD(net.parameters(), lr=learning_rate)\n",
    "criteon = nn.CrossEntropyLoss()"
   ]
  },
  {
   "cell_type": "code",
   "execution_count": 6,
   "metadata": {},
   "outputs": [
    {
     "name": "stdout",
     "output_type": "stream",
     "text": [
      "Train Epoch: 0 [0/60000 (0%)]\tLoss: 2.305269\n",
      "Train Epoch: 0 [20000/60000 (33%)]\tLoss: 2.053949\n",
      "Train Epoch: 0 [40000/60000 (67%)]\tLoss: 1.628123\n",
      "\n",
      "Test set: Average loss: 0.0065, Accuracy: 6256/10000 (62%)\n",
      "\n",
      "Train Epoch: 1 [0/60000 (0%)]\tLoss: 1.330767\n",
      "Train Epoch: 1 [20000/60000 (33%)]\tLoss: 1.197762\n",
      "Train Epoch: 1 [40000/60000 (67%)]\tLoss: 0.910447\n",
      "\n",
      "Test set: Average loss: 0.0052, Accuracy: 6523/10000 (65%)\n",
      "\n",
      "Train Epoch: 2 [0/60000 (0%)]\tLoss: 1.174244\n",
      "Train Epoch: 2 [20000/60000 (33%)]\tLoss: 1.054551\n",
      "Train Epoch: 2 [40000/60000 (67%)]\tLoss: 1.021975\n",
      "\n",
      "Test set: Average loss: 0.0048, Accuracy: 6616/10000 (66%)\n",
      "\n",
      "Train Epoch: 3 [0/60000 (0%)]\tLoss: 0.979809\n",
      "Train Epoch: 3 [20000/60000 (33%)]\tLoss: 0.889797\n",
      "Train Epoch: 3 [40000/60000 (67%)]\tLoss: 0.927778\n",
      "\n",
      "Test set: Average loss: 0.0047, Accuracy: 6654/10000 (66%)\n",
      "\n",
      "Train Epoch: 4 [0/60000 (0%)]\tLoss: 1.008995\n",
      "Train Epoch: 4 [20000/60000 (33%)]\tLoss: 0.945122\n",
      "Train Epoch: 4 [40000/60000 (67%)]\tLoss: 0.869840\n",
      "\n",
      "Test set: Average loss: 0.0046, Accuracy: 6671/10000 (66%)\n",
      "\n",
      "Train Epoch: 5 [0/60000 (0%)]\tLoss: 0.919410\n",
      "Train Epoch: 5 [20000/60000 (33%)]\tLoss: 0.889167\n",
      "Train Epoch: 5 [40000/60000 (67%)]\tLoss: 0.782387\n",
      "\n",
      "Test set: Average loss: 0.0045, Accuracy: 6718/10000 (67%)\n",
      "\n",
      "Train Epoch: 6 [0/60000 (0%)]\tLoss: 0.820054\n",
      "Train Epoch: 6 [20000/60000 (33%)]\tLoss: 0.831176\n",
      "Train Epoch: 6 [40000/60000 (67%)]\tLoss: 0.956888\n",
      "\n",
      "Test set: Average loss: 0.0044, Accuracy: 6723/10000 (67%)\n",
      "\n",
      "Train Epoch: 7 [0/60000 (0%)]\tLoss: 0.933295\n",
      "Train Epoch: 7 [20000/60000 (33%)]\tLoss: 0.912489\n",
      "Train Epoch: 7 [40000/60000 (67%)]\tLoss: 0.883206\n",
      "\n",
      "Test set: Average loss: 0.0041, Accuracy: 7355/10000 (73%)\n",
      "\n",
      "Train Epoch: 8 [0/60000 (0%)]\tLoss: 0.797328\n",
      "Train Epoch: 8 [20000/60000 (33%)]\tLoss: 0.788378\n",
      "Train Epoch: 8 [40000/60000 (67%)]\tLoss: 0.739324\n",
      "\n",
      "Test set: Average loss: 0.0037, Accuracy: 7456/10000 (74%)\n",
      "\n",
      "Train Epoch: 9 [0/60000 (0%)]\tLoss: 0.751885\n",
      "Train Epoch: 9 [20000/60000 (33%)]\tLoss: 0.820523\n",
      "Train Epoch: 9 [40000/60000 (67%)]\tLoss: 0.615660\n",
      "\n",
      "Test set: Average loss: 0.0035, Accuracy: 7491/10000 (74%)\n",
      "\n"
     ]
    }
   ],
   "source": [
    "for epoch in range(epochs):\n",
    "\n",
    "    for batch_idx, (data, target) in enumerate(train_loader):\n",
    "        data = data.view(-1, 28*28)\n",
    "\n",
    "        logits = net(data)\n",
    "        loss = criteon(logits, target)\n",
    "\n",
    "        optimizer.zero_grad()\n",
    "        loss.backward()\n",
    "        # print(w1.grad.norm(), w2.grad.norm())\n",
    "        optimizer.step()\n",
    "\n",
    "        if batch_idx % 100 == 0:\n",
    "            print('Train Epoch: {} [{}/{} ({:.0f}%)]\\tLoss: {:.6f}'.format(\n",
    "                epoch, batch_idx * len(data), len(train_loader.dataset),\n",
    "                       100. * batch_idx / len(train_loader), loss.item()))\n",
    "\n",
    "\n",
    "    test_loss = 0\n",
    "    correct = 0\n",
    "    for data, target in test_loader:\n",
    "        data = data.view(-1, 28 * 28)\n",
    "        logits = net(data)\n",
    "        test_loss += criteon(logits, target).item()\n",
    "\n",
    "        pred = logits.data.max(1)[1]\n",
    "        correct += pred.eq(target.data).sum()\n",
    "\n",
    "    test_loss /= len(test_loader.dataset)\n",
    "    print('\\nTest set: Average loss: {:.4f}, Accuracy: {}/{} ({:.0f}%)\\n'.format(\n",
    "        test_loss, correct, len(test_loader.dataset),\n",
    "        100. * correct / len(test_loader.dataset)))"
   ]
  }
 ],
 "metadata": {
  "kernelspec": {
   "display_name": "Python 3",
   "language": "python",
   "name": "python3"
  },
  "language_info": {
   "codemirror_mode": {
    "name": "ipython",
    "version": 3
   },
   "file_extension": ".py",
   "mimetype": "text/x-python",
   "name": "python",
   "nbconvert_exporter": "python",
   "pygments_lexer": "ipython3",
   "version": "3.6.7"
  }
 },
 "nbformat": 4,
 "nbformat_minor": 2
}
