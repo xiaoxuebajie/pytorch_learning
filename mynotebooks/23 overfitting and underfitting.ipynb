{
 "cells": [
  {
   "cell_type": "markdown",
   "metadata": {},
   "source": [
    "# 23 overfitting and underfitting"
   ]
  },
  {
   "cell_type": "markdown",
   "metadata": {},
   "source": [
    "### underfitting: estimated<Ground-truth\n",
    "<img src='./images/6.png' style=\"zoom:50%\">"
   ]
  },
  {
   "cell_type": "markdown",
   "metadata": {},
   "source": [
    "### overfitting: Ground-truth<Estimated\n",
    "<img src='./images/7.png' style=\"zoom:50%\">\n",
    "<mark>generalization performance decrease<mark>"
   ]
  },
  {
   "cell_type": "markdown",
   "metadata": {},
   "source": [
    "## train test trade-off\n",
    "<img src='./images/8.png' style=\"zoom:50%\">"
   ]
  },
  {
   "cell_type": "markdown",
   "metadata": {},
   "source": [
    "## k-fold cross validation"
   ]
  },
  {
   "cell_type": "markdown",
   "metadata": {},
   "source": [
    "## Train-Validation-Test"
   ]
  },
  {
   "cell_type": "code",
   "execution_count": 1,
   "metadata": {},
   "outputs": [],
   "source": [
    "import  torch\n",
    "import  torch.nn as nn\n",
    "import  torch.nn.functional as F\n",
    "import  torch.optim as optim\n",
    "from    torchvision import datasets, transforms"
   ]
  },
  {
   "cell_type": "code",
   "execution_count": 2,
   "metadata": {},
   "outputs": [],
   "source": [
    "batch_size=200\n",
    "learning_rate=0.01\n",
    "epochs=10"
   ]
  },
  {
   "cell_type": "code",
   "execution_count": 5,
   "metadata": {},
   "outputs": [],
   "source": [
    "train_db = datasets.MNIST('./data', train=True, download=True,\n",
    "                   transform=transforms.Compose([\n",
    "                       transforms.ToTensor(),\n",
    "                       transforms.Normalize((0.1307,), (0.3081,))\n",
    "                   ]))\n",
    "train_loader = torch.utils.data.DataLoader(\n",
    "    train_db,\n",
    "    batch_size=batch_size, shuffle=True)\n",
    "\n",
    "test_db = datasets.MNIST('./data', train=False, transform=transforms.Compose([\n",
    "    transforms.ToTensor(),\n",
    "    transforms.Normalize((0.1307,), (0.3081,))\n",
    "]))\n",
    "test_loader = torch.utils.data.DataLoader(test_db,\n",
    "    batch_size=batch_size, shuffle=True)"
   ]
  },
  {
   "cell_type": "code",
   "execution_count": 6,
   "metadata": {},
   "outputs": [
    {
     "name": "stdout",
     "output_type": "stream",
     "text": [
      "train: 60000 test: 10000\n",
      "db1: 50000 db2: 10000\n"
     ]
    }
   ],
   "source": [
    "print('train:', len(train_db), 'test:', len(test_db))\n",
    "train_db, val_db = torch.utils.data.random_split(train_db, [50000, 10000])\n",
    "print('db1:', len(train_db), 'db2:', len(val_db))\n",
    "train_loader = torch.utils.data.DataLoader(\n",
    "    train_db,\n",
    "    batch_size=batch_size, shuffle=True)\n",
    "val_loader = torch.utils.data.DataLoader(\n",
    "    val_db,\n",
    "    batch_size=batch_size, shuffle=True)\n"
   ]
  },
  {
   "cell_type": "code",
   "execution_count": 7,
   "metadata": {},
   "outputs": [],
   "source": [
    "class MLP(nn.Module):\n",
    "\n",
    "    def __init__(self):\n",
    "        super(MLP, self).__init__()\n",
    "\n",
    "        self.model = nn.Sequential(\n",
    "            nn.Linear(784, 200),\n",
    "            nn.LeakyReLU(inplace=True),\n",
    "            nn.Linear(200, 200),\n",
    "            nn.LeakyReLU(inplace=True),\n",
    "            nn.Linear(200, 10),\n",
    "            nn.LeakyReLU(inplace=True),\n",
    "        )\n",
    "\n",
    "    def forward(self, x):\n",
    "        x = self.model(x)\n",
    "\n",
    "        return x"
   ]
  },
  {
   "cell_type": "code",
   "execution_count": 8,
   "metadata": {},
   "outputs": [],
   "source": [
    "device = torch.device('cuda:0')\n",
    "net = MLP().to(device)\n",
    "optimizer = optim.SGD(net.parameters(), lr=learning_rate)\n",
    "criteon = nn.CrossEntropyLoss().to(device)"
   ]
  },
  {
   "cell_type": "code",
   "execution_count": 9,
   "metadata": {},
   "outputs": [
    {
     "name": "stdout",
     "output_type": "stream",
     "text": [
      "Train Epoch: 0 [0/50000 (0%)]\tLoss: 2.292923\n",
      "Train Epoch: 0 [20000/50000 (40%)]\tLoss: 2.129498\n",
      "Train Epoch: 0 [40000/50000 (80%)]\tLoss: 1.629001\n",
      "\n",
      "VAL set: Average loss: 0.0071, Accuracy: 6388/10000 (63%)\n",
      "\n",
      "Train Epoch: 1 [0/50000 (0%)]\tLoss: 1.583038\n",
      "Train Epoch: 1 [20000/50000 (40%)]\tLoss: 1.112609\n",
      "Train Epoch: 1 [40000/50000 (80%)]\tLoss: 1.112436\n",
      "\n",
      "VAL set: Average loss: 0.0046, Accuracy: 7461/10000 (74%)\n",
      "\n",
      "Train Epoch: 2 [0/50000 (0%)]\tLoss: 0.962306\n",
      "Train Epoch: 2 [20000/50000 (40%)]\tLoss: 0.650866\n",
      "Train Epoch: 2 [40000/50000 (80%)]\tLoss: 0.694571\n",
      "\n",
      "VAL set: Average loss: 0.0032, Accuracy: 8097/10000 (80%)\n",
      "\n",
      "Train Epoch: 3 [0/50000 (0%)]\tLoss: 0.645702\n",
      "Train Epoch: 3 [20000/50000 (40%)]\tLoss: 0.474482\n",
      "Train Epoch: 3 [40000/50000 (80%)]\tLoss: 0.452642\n",
      "\n",
      "VAL set: Average loss: 0.0019, Accuracy: 8934/10000 (89%)\n",
      "\n",
      "Train Epoch: 4 [0/50000 (0%)]\tLoss: 0.319428\n",
      "Train Epoch: 4 [20000/50000 (40%)]\tLoss: 0.376218\n",
      "Train Epoch: 4 [40000/50000 (80%)]\tLoss: 0.351451\n",
      "\n",
      "VAL set: Average loss: 0.0017, Accuracy: 9025/10000 (90%)\n",
      "\n",
      "Train Epoch: 5 [0/50000 (0%)]\tLoss: 0.275675\n",
      "Train Epoch: 5 [20000/50000 (40%)]\tLoss: 0.256570\n",
      "Train Epoch: 5 [40000/50000 (80%)]\tLoss: 0.309158\n",
      "\n",
      "VAL set: Average loss: 0.0016, Accuracy: 9081/10000 (90%)\n",
      "\n",
      "Train Epoch: 6 [0/50000 (0%)]\tLoss: 0.325563\n",
      "Train Epoch: 6 [20000/50000 (40%)]\tLoss: 0.242050\n",
      "Train Epoch: 6 [40000/50000 (80%)]\tLoss: 0.338733\n",
      "\n",
      "VAL set: Average loss: 0.0015, Accuracy: 9126/10000 (91%)\n",
      "\n",
      "Train Epoch: 7 [0/50000 (0%)]\tLoss: 0.250619\n",
      "Train Epoch: 7 [20000/50000 (40%)]\tLoss: 0.327790\n",
      "Train Epoch: 7 [40000/50000 (80%)]\tLoss: 0.262143\n",
      "\n",
      "VAL set: Average loss: 0.0014, Accuracy: 9151/10000 (91%)\n",
      "\n",
      "Train Epoch: 8 [0/50000 (0%)]\tLoss: 0.242269\n",
      "Train Epoch: 8 [20000/50000 (40%)]\tLoss: 0.245583\n",
      "Train Epoch: 8 [40000/50000 (80%)]\tLoss: 0.205965\n",
      "\n",
      "VAL set: Average loss: 0.0013, Accuracy: 9206/10000 (92%)\n",
      "\n",
      "Train Epoch: 9 [0/50000 (0%)]\tLoss: 0.200099\n",
      "Train Epoch: 9 [20000/50000 (40%)]\tLoss: 0.179379\n",
      "Train Epoch: 9 [40000/50000 (80%)]\tLoss: 0.266952\n",
      "\n",
      "VAL set: Average loss: 0.0013, Accuracy: 9230/10000 (92%)\n",
      "\n"
     ]
    }
   ],
   "source": [
    "for epoch in range(epochs):\n",
    "\n",
    "    for batch_idx, (data, target) in enumerate(train_loader):\n",
    "        data = data.view(-1, 28*28)\n",
    "        data, target = data.to(device), target.cuda()\n",
    "\n",
    "        logits = net(data)\n",
    "        loss = criteon(logits, target)\n",
    "\n",
    "        optimizer.zero_grad()\n",
    "        loss.backward()\n",
    "        # print(w1.grad.norm(), w2.grad.norm())\n",
    "        optimizer.step()\n",
    "\n",
    "        if batch_idx % 100 == 0:\n",
    "            print('Train Epoch: {} [{}/{} ({:.0f}%)]\\tLoss: {:.6f}'.format(\n",
    "                epoch, batch_idx * len(data), len(train_loader.dataset),\n",
    "                       100. * batch_idx / len(train_loader), loss.item()))\n",
    "\n",
    "\n",
    "    test_loss = 0\n",
    "    correct = 0\n",
    "    for data, target in val_loader:\n",
    "        data = data.view(-1, 28 * 28)\n",
    "        data, target = data.to(device), target.cuda()\n",
    "        logits = net(data)\n",
    "        test_loss += criteon(logits, target).item()\n",
    "\n",
    "        pred = logits.data.max(1)[1]\n",
    "        correct += pred.eq(target.data).sum()\n",
    "\n",
    "    test_loss /= len(val_loader.dataset)\n",
    "    print('\\nVAL set: Average loss: {:.4f}, Accuracy: {}/{} ({:.0f}%)\\n'.format(\n",
    "        test_loss, correct, len(val_loader.dataset),\n",
    "        100. * correct / len(val_loader.dataset)))"
   ]
  },
  {
   "cell_type": "code",
   "execution_count": 10,
   "metadata": {},
   "outputs": [
    {
     "name": "stdout",
     "output_type": "stream",
     "text": [
      "\n",
      "Test set: Average loss: 0.0012, Accuracy: 9301/10000 (93%)\n",
      "\n"
     ]
    }
   ],
   "source": [
    "test_loss = 0\n",
    "correct = 0\n",
    "for data, target in test_loader:\n",
    "    data = data.view(-1, 28 * 28)\n",
    "    data, target = data.to(device), target.cuda()\n",
    "    logits = net(data)\n",
    "    test_loss += criteon(logits, target).item()\n",
    "\n",
    "    pred = logits.data.max(1)[1]\n",
    "    correct += pred.eq(target.data).sum()\n",
    "\n",
    "test_loss /= len(test_loader.dataset)\n",
    "print('\\nTest set: Average loss: {:.4f}, Accuracy: {}/{} ({:.0f}%)\\n'.format(\n",
    "    test_loss, correct, len(test_loader.dataset),\n",
    "    100. * correct / len(test_loader.dataset)))"
   ]
  }
 ],
 "metadata": {
  "kernelspec": {
   "display_name": "Python 3",
   "language": "python",
   "name": "python3"
  },
  "language_info": {
   "codemirror_mode": {
    "name": "ipython",
    "version": 3
   },
   "file_extension": ".py",
   "mimetype": "text/x-python",
   "name": "python",
   "nbconvert_exporter": "python",
   "pygments_lexer": "ipython3",
   "version": "3.6.7"
  }
 },
 "nbformat": 4,
 "nbformat_minor": 2
}
