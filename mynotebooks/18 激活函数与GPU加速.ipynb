{
 "cells": [
  {
   "cell_type": "markdown",
   "metadata": {},
   "source": [
    "# 18 激活函数与GPU加速"
   ]
  },
  {
   "cell_type": "markdown",
   "metadata": {},
   "source": [
    "## activation function"
   ]
  },
  {
   "cell_type": "markdown",
   "metadata": {},
   "source": [
    "* <font face=\"黑体\" color=green size=5>sigmoid</font>\n",
    "* <font face=\"黑体\" color=green size=5>tanh</font>\n",
    "<img src='./images/15.png' style=\"zoom:50%\">\n",
    "* <font face=\"黑体\" color=green size=5>ReLU</font>\n",
    "<img src='./images/16.png' style=\"zoom:50%\">\n",
    "* <font face=\"黑体\" color=green size=5>Leaky ReLU</font>\n",
    "<img src='./images/17.png' style=\"zoom:50%\">\n",
    "* <font face=\"黑体\" color=green size=5>SELU</font>\n",
    "<img src='./images/18.png' style=\"zoom:50%\">\n",
    "* <font face=\"黑体\" color=green size=5>softplus</font>\n",
    "<img src='./images/19.png' style=\"zoom:50%\">"
   ]
  },
  {
   "cell_type": "markdown",
   "metadata": {},
   "source": [
    "## GPU accelerate"
   ]
  },
  {
   "cell_type": "markdown",
   "metadata": {},
   "source": [
    "```python\n",
    "device = torch.device('cuda:0')\n",
    "```"
   ]
  },
  {
   "cell_type": "code",
   "execution_count": 1,
   "metadata": {},
   "outputs": [],
   "source": [
    "import torch\n",
    "import torch.nn as nn\n",
    "import torch.nn.functional as F\n",
    "import torch.optim as optim\n",
    "from torchvision import datasets, transforms"
   ]
  },
  {
   "cell_type": "code",
   "execution_count": 2,
   "metadata": {},
   "outputs": [],
   "source": [
    "batch_size=200\n",
    "learning_rate=0.01\n",
    "epochs=10"
   ]
  },
  {
   "cell_type": "code",
   "execution_count": 3,
   "metadata": {},
   "outputs": [],
   "source": [
    "train_loader = torch.utils.data.DataLoader(\n",
    "    datasets.MNIST('./data', train=True, download=True,\n",
    "                   transform=transforms.Compose([\n",
    "                       transforms.ToTensor(),\n",
    "                       transforms.Normalize((0.1307,), (0.3081,))\n",
    "                   ])),\n",
    "    batch_size=batch_size, shuffle=True)\n",
    "test_loader = torch.utils.data.DataLoader(\n",
    "    datasets.MNIST('./data', train=False, transform=transforms.Compose([\n",
    "        transforms.ToTensor(),\n",
    "        transforms.Normalize((0.1307,), (0.3081,))\n",
    "    ])),\n",
    "    batch_size=batch_size, shuffle=True)"
   ]
  },
  {
   "cell_type": "markdown",
   "metadata": {},
   "source": [
    "### 使用LeakyReLU激活函数"
   ]
  },
  {
   "cell_type": "code",
   "execution_count": 4,
   "metadata": {},
   "outputs": [],
   "source": [
    "class MLP(nn.Module):\n",
    "\n",
    "    def __init__(self):\n",
    "        super(MLP, self).__init__()\n",
    "\n",
    "        self.model = nn.Sequential(\n",
    "            nn.Linear(784, 200),\n",
    "            nn.LeakyReLU(inplace=True),\n",
    "            nn.Linear(200, 200),\n",
    "            nn.LeakyReLU(inplace=True),\n",
    "            nn.Linear(200, 10),\n",
    "            nn.LeakyReLU(inplace=True),\n",
    "        )\n",
    "\n",
    "    def forward(self, x):\n",
    "        x = self.model(x)\n",
    "\n",
    "        return x"
   ]
  },
  {
   "cell_type": "markdown",
   "metadata": {},
   "source": [
    "### gpu accelerate: ctrl f :device,自己查看"
   ]
  },
  {
   "cell_type": "code",
   "execution_count": 5,
   "metadata": {},
   "outputs": [],
   "source": [
    "device = torch.device('cuda:0')\n",
    "net = MLP().to(device)\n",
    "optimizer = optim.SGD(net.parameters(), lr=learning_rate)\n",
    "criteon = nn.CrossEntropyLoss().to(device)"
   ]
  },
  {
   "cell_type": "code",
   "execution_count": 6,
   "metadata": {
    "scrolled": true
   },
   "outputs": [
    {
     "name": "stdout",
     "output_type": "stream",
     "text": [
      "Train Epoch: 0 [0/60000 (0%)]\tLoss: 2.303960\n",
      "Train Epoch: 0 [20000/60000 (33%)]\tLoss: 1.984523\n",
      "Train Epoch: 0 [40000/60000 (67%)]\tLoss: 1.459735\n",
      "\n",
      "Test set: Average loss: 0.0063, Accuracy: 6290/10000 (62%)\n",
      "\n",
      "Train Epoch: 1 [0/60000 (0%)]\tLoss: 1.351230\n",
      "Train Epoch: 1 [20000/60000 (33%)]\tLoss: 1.025896\n",
      "Train Epoch: 1 [40000/60000 (67%)]\tLoss: 0.927920\n",
      "\n",
      "Test set: Average loss: 0.0043, Accuracy: 7323/10000 (73%)\n",
      "\n",
      "Train Epoch: 2 [0/60000 (0%)]\tLoss: 0.748525\n",
      "Train Epoch: 2 [20000/60000 (33%)]\tLoss: 0.796929\n",
      "Train Epoch: 2 [40000/60000 (67%)]\tLoss: 0.563963\n",
      "\n",
      "Test set: Average loss: 0.0020, Accuracy: 8923/10000 (89%)\n",
      "\n",
      "Train Epoch: 3 [0/60000 (0%)]\tLoss: 0.438475\n",
      "Train Epoch: 3 [20000/60000 (33%)]\tLoss: 0.445699\n",
      "Train Epoch: 3 [40000/60000 (67%)]\tLoss: 0.314467\n",
      "\n",
      "Test set: Average loss: 0.0017, Accuracy: 9043/10000 (90%)\n",
      "\n",
      "Train Epoch: 4 [0/60000 (0%)]\tLoss: 0.368438\n",
      "Train Epoch: 4 [20000/60000 (33%)]\tLoss: 0.437965\n",
      "Train Epoch: 4 [40000/60000 (67%)]\tLoss: 0.326460\n",
      "\n",
      "Test set: Average loss: 0.0015, Accuracy: 9145/10000 (91%)\n",
      "\n",
      "Train Epoch: 5 [0/60000 (0%)]\tLoss: 0.269675\n",
      "Train Epoch: 5 [20000/60000 (33%)]\tLoss: 0.275846\n",
      "Train Epoch: 5 [40000/60000 (67%)]\tLoss: 0.306752\n",
      "\n",
      "Test set: Average loss: 0.0014, Accuracy: 9195/10000 (91%)\n",
      "\n",
      "Train Epoch: 6 [0/60000 (0%)]\tLoss: 0.170954\n",
      "Train Epoch: 6 [20000/60000 (33%)]\tLoss: 0.233506\n",
      "Train Epoch: 6 [40000/60000 (67%)]\tLoss: 0.225644\n",
      "\n",
      "Test set: Average loss: 0.0013, Accuracy: 9243/10000 (92%)\n",
      "\n",
      "Train Epoch: 7 [0/60000 (0%)]\tLoss: 0.364891\n",
      "Train Epoch: 7 [20000/60000 (33%)]\tLoss: 0.307648\n",
      "Train Epoch: 7 [40000/60000 (67%)]\tLoss: 0.339448\n",
      "\n",
      "Test set: Average loss: 0.0013, Accuracy: 9280/10000 (92%)\n",
      "\n",
      "Train Epoch: 8 [0/60000 (0%)]\tLoss: 0.210105\n",
      "Train Epoch: 8 [20000/60000 (33%)]\tLoss: 0.235593\n",
      "Train Epoch: 8 [40000/60000 (67%)]\tLoss: 0.211158\n",
      "\n",
      "Test set: Average loss: 0.0012, Accuracy: 9312/10000 (93%)\n",
      "\n",
      "Train Epoch: 9 [0/60000 (0%)]\tLoss: 0.257194\n",
      "Train Epoch: 9 [20000/60000 (33%)]\tLoss: 0.245934\n",
      "Train Epoch: 9 [40000/60000 (67%)]\tLoss: 0.205614\n",
      "\n",
      "Test set: Average loss: 0.0011, Accuracy: 9358/10000 (93%)\n",
      "\n"
     ]
    }
   ],
   "source": [
    "for epoch in range(epochs):\n",
    "\n",
    "    for batch_idx, (data, target) in enumerate(train_loader):\n",
    "        data = data.view(-1, 28*28)\n",
    "        data, target = data.to(device),target.cuda()   # 通常使用.to(device),.cuda()老版本，不建议使用。\n",
    "                                                       # 对于data有可能产生cpu tensor 和 gpu tensor，确保使用的是否一致。\n",
    "        logits = net(data)\n",
    "        loss = criteon(logits, target)\n",
    "\n",
    "        optimizer.zero_grad()\n",
    "        loss.backward()\n",
    "        # print(w1.grad.norm(), w2.grad.norm())\n",
    "        optimizer.step()\n",
    "\n",
    "        if batch_idx % 100 == 0:\n",
    "            print('Train Epoch: {} [{}/{} ({:.0f}%)]\\tLoss: {:.6f}'.format(\n",
    "                epoch, batch_idx * len(data), len(train_loader.dataset),\n",
    "                       100. * batch_idx / len(train_loader), loss.item()))\n",
    "\n",
    "\n",
    "    test_loss = 0\n",
    "    correct = 0\n",
    "    for data, target in test_loader:\n",
    "        data = data.view(-1, 28 * 28)\n",
    "        data, target = data.to(device), target.cuda()\n",
    "        \n",
    "        logits = net(data)\n",
    "        test_loss += criteon(logits, target).item()\n",
    "\n",
    "        pred = logits.data.max(1)[1]\n",
    "        correct += pred.eq(target.data).sum()\n",
    "\n",
    "    test_loss /= len(test_loader.dataset)\n",
    "    print('\\nTest set: Average loss: {:.4f}, Accuracy: {}/{} ({:.0f}%)\\n'.format(\n",
    "        test_loss, correct, len(test_loader.dataset),\n",
    "        100. * correct / len(test_loader.dataset)))"
   ]
  },
  {
   "cell_type": "markdown",
   "metadata": {},
   "source": [
    "### Tips:GPU训练比CPU训练效果要好，需要探明其缘由。。。"
   ]
  },
  {
   "cell_type": "markdown",
   "metadata": {},
   "source": [
    "### caculate accuracy"
   ]
  },
  {
   "cell_type": "code",
   "execution_count": 7,
   "metadata": {},
   "outputs": [],
   "source": [
    "logits = torch.rand(4, 10)"
   ]
  },
  {
   "cell_type": "code",
   "execution_count": 8,
   "metadata": {},
   "outputs": [
    {
     "data": {
      "text/plain": [
       "torch.Size([4, 10])"
      ]
     },
     "execution_count": 8,
     "metadata": {},
     "output_type": "execute_result"
    }
   ],
   "source": [
    "pred = F.softmax(logits, dim=1)\n",
    "pred.shape"
   ]
  },
  {
   "cell_type": "code",
   "execution_count": 9,
   "metadata": {},
   "outputs": [
    {
     "data": {
      "text/plain": [
       "tensor([4, 4, 2, 5])"
      ]
     },
     "execution_count": 9,
     "metadata": {},
     "output_type": "execute_result"
    }
   ],
   "source": [
    "pred_label = pred.argmax(dim=1)\n",
    "pred_label"
   ]
  },
  {
   "cell_type": "code",
   "execution_count": 10,
   "metadata": {},
   "outputs": [
    {
     "data": {
      "text/plain": [
       "tensor([4, 4, 2, 5])"
      ]
     },
     "execution_count": 10,
     "metadata": {},
     "output_type": "execute_result"
    }
   ],
   "source": [
    "logits.argmax(dim=1)"
   ]
  },
  {
   "cell_type": "code",
   "execution_count": 11,
   "metadata": {},
   "outputs": [
    {
     "data": {
      "text/plain": [
       "tensor([1, 0, 0, 0], dtype=torch.uint8)"
      ]
     },
     "execution_count": 11,
     "metadata": {},
     "output_type": "execute_result"
    }
   ],
   "source": [
    "label = torch.tensor([4,8,3,8])\n",
    "correct = torch.eq(pred_label, label)\n",
    "correct"
   ]
  },
  {
   "cell_type": "code",
   "execution_count": 12,
   "metadata": {},
   "outputs": [
    {
     "data": {
      "text/plain": [
       "0.25"
      ]
     },
     "execution_count": 12,
     "metadata": {},
     "output_type": "execute_result"
    }
   ],
   "source": [
    "correct.sum().float().item()/4."
   ]
  }
 ],
 "metadata": {
  "kernelspec": {
   "display_name": "Python 3",
   "language": "python",
   "name": "python3"
  },
  "language_info": {
   "codemirror_mode": {
    "name": "ipython",
    "version": 3
   },
   "file_extension": ".py",
   "mimetype": "text/x-python",
   "name": "python",
   "nbconvert_exporter": "python",
   "pygments_lexer": "ipython3",
   "version": "3.6.7"
  }
 },
 "nbformat": 4,
 "nbformat_minor": 2
}
