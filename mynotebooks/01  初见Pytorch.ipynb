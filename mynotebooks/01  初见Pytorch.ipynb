{
 "cells": [
  {
   "cell_type": "markdown",
   "metadata": {},
   "source": [
    "# 01  初见Pytorch"
   ]
  },
  {
   "cell_type": "markdown",
   "metadata": {},
   "source": [
    "动态图模式，易用兼容，适合学术界。与tensorflow平分秋色"
   ]
  },
  {
   "cell_type": "markdown",
   "metadata": {},
   "source": [
    "### 同类架构\n",
    "<img src='./images/01.png' style=\"zoom:50%\">"
   ]
  },
  {
   "cell_type": "markdown",
   "metadata": {},
   "source": [
    "### 综合评价\n",
    "<img src='./images/02.png' style=\"zoom:50%\">"
   ]
  },
  {
   "cell_type": "markdown",
   "metadata": {},
   "source": [
    "## Pytorch生态\n",
    "<img src='./images/03.png' style=\"zoom:50%\">"
   ]
  },
  {
   "cell_type": "markdown",
   "metadata": {},
   "source": [
    "### Pytorch 能做什么？\n",
    "                            * 01 GPU加速\n",
    "                            * 02 自动求导\n",
    "                            * 03 常用网络"
   ]
  },
  {
   "cell_type": "markdown",
   "metadata": {},
   "source": [
    "## 01 GPU加速"
   ]
  },
  {
   "cell_type": "code",
   "execution_count": 1,
   "metadata": {},
   "outputs": [],
   "source": [
    "import torch\n",
    "import time"
   ]
  },
  {
   "cell_type": "code",
   "execution_count": 2,
   "metadata": {},
   "outputs": [
    {
     "name": "stdout",
     "output_type": "stream",
     "text": [
      "1.1.0\n",
      "True\n"
     ]
    }
   ],
   "source": [
    "print(torch.__version__)\n",
    "print(torch.cuda.is_available())"
   ]
  },
  {
   "cell_type": "code",
   "execution_count": 3,
   "metadata": {},
   "outputs": [],
   "source": [
    "a = torch.randn(10000, 1000)\n",
    "b = torch.randn(1000, 2000)"
   ]
  },
  {
   "cell_type": "markdown",
   "metadata": {},
   "source": [
    "#### <font color=#008000>cpu 计算时间：</font>"
   ]
  },
  {
   "cell_type": "code",
   "execution_count": 4,
   "metadata": {},
   "outputs": [
    {
     "name": "stdout",
     "output_type": "stream",
     "text": [
      "cpu 0.41743040084838867 tensor(141260.5469)\n"
     ]
    }
   ],
   "source": [
    "t0 = time.time()\n",
    "c = torch.matmul(a, b)\n",
    "t1 = time.time()\n",
    "print(a.device, t1-t0, c.norm(2))    #对于c的维度过大，有的时候采用二范数，观测"
   ]
  },
  {
   "cell_type": "code",
   "execution_count": 5,
   "metadata": {},
   "outputs": [],
   "source": [
    "device = torch.device('cuda')\n",
    "a = a.to(device)\n",
    "b = b.to(device)"
   ]
  },
  {
   "cell_type": "markdown",
   "metadata": {},
   "source": [
    "#### <font color=green>gpu 初始化+计算时间：</font>"
   ]
  },
  {
   "cell_type": "code",
   "execution_count": 6,
   "metadata": {},
   "outputs": [
    {
     "name": "stdout",
     "output_type": "stream",
     "text": [
      "cuda:0 1.6463210582733154 tensor(141478.6094, device='cuda:0')\n"
     ]
    }
   ],
   "source": [
    "t0 = time.time()\n",
    "c = torch.matmul(a,b)\n",
    "t2 = time.time()\n",
    "print(a.device, t2-t0, c.norm(2))"
   ]
  },
  {
   "cell_type": "markdown",
   "metadata": {},
   "source": [
    "#### <font color=green>gpu 计算时间：</font>"
   ]
  },
  {
   "cell_type": "code",
   "execution_count": 7,
   "metadata": {},
   "outputs": [
    {
     "name": "stdout",
     "output_type": "stream",
     "text": [
      "cuda:0 0.00598454475402832 tensor(141478.6094, device='cuda:0')\n"
     ]
    }
   ],
   "source": [
    "t0 = time.time()\n",
    "c = torch.matmul(a,b)\n",
    "t3 = time.time()\n",
    "print(a.device, t3-t0, c.norm(2))"
   ]
  },
  {
   "cell_type": "markdown",
   "metadata": {},
   "source": [
    "## 02 自动求导"
   ]
  },
  {
   "cell_type": "code",
   "execution_count": 8,
   "metadata": {},
   "outputs": [],
   "source": [
    "import torch\n",
    "from torch import autograd"
   ]
  },
  {
   "cell_type": "code",
   "execution_count": 9,
   "metadata": {},
   "outputs": [],
   "source": [
    "x = torch.tensor(1.)\n",
    "a = torch.tensor(1., requires_grad=True)\n",
    "b = torch.tensor(2., requires_grad=True)\n",
    "c = torch.tensor(3., requires_grad=True)"
   ]
  },
  {
   "cell_type": "code",
   "execution_count": 10,
   "metadata": {},
   "outputs": [],
   "source": [
    "y = a ** 2 * x + b * x + c"
   ]
  },
  {
   "cell_type": "code",
   "execution_count": 11,
   "metadata": {},
   "outputs": [
    {
     "name": "stdout",
     "output_type": "stream",
     "text": [
      "before: None None None\n",
      "after: tensor(2.) tensor(1.) tensor(1.)\n"
     ]
    }
   ],
   "source": [
    "print('before:', a.grad, b.grad, c.grad)\n",
    "grads = autograd.grad(y, [a, b, c])\n",
    "print('after:', grads[0], grads[1], grads[2])"
   ]
  },
  {
   "cell_type": "markdown",
   "metadata": {},
   "source": [
    "## 03 常用网络层\n",
    "\n",
    "    * nn.Linear\n",
    "    * nn.Conv2d\n",
    "    * nn.LSTM\n",
    "    \n",
    "    * nn.ReLU\n",
    "    * nn.Sigmoid\n",
    "    \n",
    "    * nn.Softmax\n",
    "    * nn.CrossEntropyLoss\n",
    "    * nn.MSE"
   ]
  },
  {
   "cell_type": "markdown",
   "metadata": {},
   "source": [
    "接下来环境搭建过程自行观看视频，不赘述。。。。。。"
   ]
  }
 ],
 "metadata": {
  "kernelspec": {
   "display_name": "Python 3",
   "language": "python",
   "name": "python3"
  },
  "language_info": {
   "codemirror_mode": {
    "name": "ipython",
    "version": 3
   },
   "file_extension": ".py",
   "mimetype": "text/x-python",
   "name": "python",
   "nbconvert_exporter": "python",
   "pygments_lexer": "ipython3",
   "version": "3.6.7"
  }
 },
 "nbformat": 4,
 "nbformat_minor": 2
}
